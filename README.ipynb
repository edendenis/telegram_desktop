{
 "cells": [
  {
   "cell_type": "markdown",
   "metadata": {},
   "source": [
    "# Como configurar/instalar o `Telegram Desktop` no  `Linux Ubuntu` \n",
    "\n",
    "## Resumo\n",
    "\n",
    "Neste documento estão contidos os principais comandos e configurações para configurar/instalar o `Telegram Desktop` no  `Linux Ubuntu` .\n",
    "\n",
    "## Abstract\n",
    "\n",
    "_This document contains the main commands and settings to configure/install `Telegram Desktop` on  `Linux Ubuntu`._"
   ]
  },
  {
   "cell_type": "markdown",
   "metadata": {},
   "source": [
    "## Descrição [2]\n",
    "\n",
    "### `Telegram Desktop`\n",
    "\n",
    "O `Telegram Desktop` é um aplicativo de mensagens instantâneas seguro e de código aberto disponível em várias plataformas, incluindo Linux, que oferece recursos avançados de comunicação. Conhecido por seu foco na privacidade e segurança, o Telegram oferece criptografia de ponta a ponta para as conversas, garantindo que as mensagens e arquivos compartilhados permaneçam confidenciais. Além disso, ele suporta chats em grupo, canais de divulgação, chamadas de voz e vídeo, bem como a capacidade de compartilhar arquivos de grande porte. Sua interface de usuário intuitiva e personalizável, juntamente com a capacidade de acessar o Telegram em várias plataformas, o torna uma escolha popular para comunicação pessoal e profissional, além de ser amplamente utilizado para grupos de comunicação, notícias e compartilhamento de informações.\n"
   ]
  },
  {
   "cell_type": "markdown",
   "metadata": {},
   "source": [
    "## 1. Configurar/Instalar o `Telegram Desktop` no `Linux Ubuntu` [1]\n",
    "\n",
    "2. Certifique-se de que seu sistema esteja limpo e atualizado.\n",
    "\n",
    "    2.1 Limpar o `cache` do gerenciador de pacotes `apt`. Especificamente, ele remove todos os arquivos de pacotes (`.deb`) baixados pelo `apt` e armazenados em `/var/cache/apt/archives/`. Digite o seguinte comando: `sudo apt clean` \n",
    "    \n",
    "    2.2 Remover pacotes `.deb` antigos ou duplicados do cache local. É útil para liberar espaço, pois remove apenas os pacotes que não podem mais ser baixados (ou seja, versões antigas de pacotes que foram atualizados). Digite o seguinte comando: `sudo apt autoclean`\n",
    "\n",
    "    2.3 Remover pacotes que foram automaticamente instalados para satisfazer as dependências de outros pacotes e que não são mais necessários. Digite o seguinte comando: `sudo apt autoremove -y`\n",
    "\n",
    "    2.4 Buscar as atualizações disponíveis para os pacotes que estão instalados em seu sistema. Digite o seguinte comando e pressione `Enter`: `sudo apt update`\n",
    "\n",
    "    2.5 **Corrigir pacotes quebrados**: Isso atualizará a lista de pacotes disponíveis e tentará corrigir pacotes quebrados ou com dependências ausentes: `sudo apt --fix-broken install`\n",
    "\n",
    "    2.6 Limpar o `cache` do gerenciador de pacotes `apt`. Especificamente, ele remove todos os arquivos de pacotes (`.deb`) baixados pelo `apt` e armazenados em `/var/cache/apt/archives/`. Digite o seguinte comando: `sudo apt clean` \n",
    "    \n",
    "    2.7 Para ver a lista de pacotes a serem atualizados, digite o seguinte comando e pressione `Enter`:  `sudo apt list --upgradable`\n",
    "\n",
    "    2.8 Realmente atualizar os pacotes instalados para as suas versões mais recentes, com base na última vez que você executou `sudo apt update`. Digite o seguinte comando e pressione `Enter`: `sudo apt full-upgrade -y`\n",
    "    "
   ]
  },
  {
   "cell_type": "markdown",
   "metadata": {},
   "source": [
    "3. Você pode instalar o `Telegram Desktop` usando o aplicativo `\"Snap\"`. Certifique-se de que você tenha o `Snap` instalado. Se ainda não o tiver, você pode instalá-lo com este comando: `sudo apt install snapd -y`\n",
    "\n",
    "4. Após instalar o Snap, você pode instalar o `Telegram Desktop` com este comando: `sudo snap install telegram-desktop`\n",
    "\n",
    "5. Depois de instalado, você pode iniciar o `Telegram Desktop` digitando o seguinte comando no Terminal: \n",
    "`telegram-desktop`\n",
    "\n",
    "- Isso abrirá o `Telegram Desktop`, e você poderá escanear o código QR usando o aplicativo Telegram no seu telefone, assim como no Telegram Web.\n",
    "\n",
    "Lembrando que a disponibilidade de aplicativos e as instruções podem ter mudado após a minha última atualização em setembro de 2021. Certifique-se de verificar se há novas opções ou métodos disponíveis caso não encontre o aplicativo mencionado\n"
   ]
  },
  {
   "cell_type": "markdown",
   "metadata": {
    "vscode": {
     "languageId": "plaintext"
    }
   },
   "source": [
    "## 2. Código completo para configurar/instalar\n",
    "\n",
    "Para instalar o `Telegram Desktop` no `Linux Ubuntu` sem precisar digitar linha por linha, você pode seguir estas etapas:\n",
    "\n",
    "1. Abra o `Terminal Emulator`. Você pode fazer isso pressionando: `Ctrl + Alt + T`\n",
    "\n",
    "2. Digite o seguinte comando e pressione `Enter`:\n",
    "\n",
    "    ```\n",
    "    sudo apt clean                                                            ─╯\n",
    "    sudo apt autoclean\n",
    "    sudo apt autoremove -y\n",
    "    sudo apt update\n",
    "    sudo apt --fix-broken install\n",
    "    sudo apt clean\n",
    "    sudo apt list --upgradable\n",
    "    sudo apt full-upgrade -y\n",
    "    sudo apt install snapd -y\n",
    "    sudo snap install telegram-desktop\n",
    "    telegram-desktop\n",
    "    ```"
   ]
  },
  {
   "cell_type": "markdown",
   "metadata": {
    "vscode": {
     "languageId": "plaintext"
    }
   },
   "source": [
    "## Referências\n",
    "\n",
    "[1] OPENAI. ***Instalar telegram no ubuntu:*** https://chat.openai.com/c/54b1d9ab-291f-4f89-aa5a-dba1497f15e7 (texto adaptado). ChatGPT. Acessado em: 18/10/2023 13:49.\n",
    "\n",
    "[2] OPENAI. ***Vs code: editor popular:*** https://chat.openai.com/c/b640a25d-f8e3-4922-8a3b-ed74a2657e42 (texto adaptado). ChatGPT. Acessado em: 14/11/2023 09:33."
   ]
  }
 ],
 "metadata": {
  "kernelspec": {
   "display_name": "Python 3",
   "language": "python",
   "name": "python3"
  },
  "language_info": {
   "codemirror_mode": {
    "name": "ipython",
    "version": 3
   },
   "file_extension": ".py",
   "mimetype": "text/x-python",
   "name": "python",
   "nbconvert_exporter": "python",
   "pygments_lexer": "ipython3",
   "version": "3.8.10"
  },
  "orig_nbformat": 4
 },
 "nbformat": 4,
 "nbformat_minor": 2
}
